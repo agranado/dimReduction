{
 "cells": [
  {
   "cell_type": "code",
   "execution_count": 6,
   "metadata": {},
   "outputs": [],
   "source": [
    "import pandas as pd \n",
    "import numpy as np\n",
    "import matplotlib.pyplot as plt \n",
    "import seaborn as sns\n"
   ]
  },
  {
   "cell_type": "code",
   "execution_count": 4,
   "metadata": {},
   "outputs": [],
   "source": [
    "pca = pd.read_csv('pca_coords.csv', index_col = 0)"
   ]
  },
  {
   "cell_type": "code",
   "execution_count": 5,
   "metadata": {},
   "outputs": [
    {
     "data": {
      "text/html": [
       "<div>\n",
       "<style scoped>\n",
       "    .dataframe tbody tr th:only-of-type {\n",
       "        vertical-align: middle;\n",
       "    }\n",
       "\n",
       "    .dataframe tbody tr th {\n",
       "        vertical-align: top;\n",
       "    }\n",
       "\n",
       "    .dataframe thead th {\n",
       "        text-align: right;\n",
       "    }\n",
       "</style>\n",
       "<table border=\"1\" class=\"dataframe\">\n",
       "  <thead>\n",
       "    <tr style=\"text-align: right;\">\n",
       "      <th></th>\n",
       "      <th>PC_1</th>\n",
       "      <th>PC_2</th>\n",
       "      <th>PC_3</th>\n",
       "      <th>PC_4</th>\n",
       "      <th>PC_5</th>\n",
       "      <th>PC_6</th>\n",
       "      <th>PC_7</th>\n",
       "      <th>PC_8</th>\n",
       "      <th>PC_9</th>\n",
       "      <th>PC_10</th>\n",
       "      <th>...</th>\n",
       "      <th>PC_91</th>\n",
       "      <th>PC_92</th>\n",
       "      <th>PC_93</th>\n",
       "      <th>PC_94</th>\n",
       "      <th>PC_95</th>\n",
       "      <th>PC_96</th>\n",
       "      <th>PC_97</th>\n",
       "      <th>PC_98</th>\n",
       "      <th>PC_99</th>\n",
       "      <th>PC_100</th>\n",
       "    </tr>\n",
       "  </thead>\n",
       "  <tbody>\n",
       "    <tr>\n",
       "      <th>1_E6.5_8.5_Chan</th>\n",
       "      <td>-2.655412</td>\n",
       "      <td>-0.300049</td>\n",
       "      <td>-1.034945</td>\n",
       "      <td>-0.944804</td>\n",
       "      <td>-1.739974</td>\n",
       "      <td>-0.860410</td>\n",
       "      <td>0.217444</td>\n",
       "      <td>0.898096</td>\n",
       "      <td>-1.030760</td>\n",
       "      <td>-0.836114</td>\n",
       "      <td>...</td>\n",
       "      <td>-0.372830</td>\n",
       "      <td>0.251180</td>\n",
       "      <td>-1.370946</td>\n",
       "      <td>-0.986580</td>\n",
       "      <td>0.189872</td>\n",
       "      <td>-0.243378</td>\n",
       "      <td>-0.132186</td>\n",
       "      <td>0.480014</td>\n",
       "      <td>-0.759772</td>\n",
       "      <td>1.033340</td>\n",
       "    </tr>\n",
       "    <tr>\n",
       "      <th>2_E6.5_8.5_Chan</th>\n",
       "      <td>-4.518603</td>\n",
       "      <td>-0.330941</td>\n",
       "      <td>-1.357964</td>\n",
       "      <td>0.071110</td>\n",
       "      <td>-3.364610</td>\n",
       "      <td>-0.286651</td>\n",
       "      <td>-1.366177</td>\n",
       "      <td>0.422332</td>\n",
       "      <td>-2.258359</td>\n",
       "      <td>-0.556681</td>\n",
       "      <td>...</td>\n",
       "      <td>-0.977533</td>\n",
       "      <td>0.169632</td>\n",
       "      <td>0.119051</td>\n",
       "      <td>-0.252179</td>\n",
       "      <td>0.925005</td>\n",
       "      <td>-1.555251</td>\n",
       "      <td>-0.987407</td>\n",
       "      <td>0.555360</td>\n",
       "      <td>0.151035</td>\n",
       "      <td>-0.001243</td>\n",
       "    </tr>\n",
       "    <tr>\n",
       "      <th>3_E6.5_8.5_Chan</th>\n",
       "      <td>-2.569621</td>\n",
       "      <td>-0.560730</td>\n",
       "      <td>-1.002214</td>\n",
       "      <td>-0.713379</td>\n",
       "      <td>-2.253816</td>\n",
       "      <td>-0.301924</td>\n",
       "      <td>0.495366</td>\n",
       "      <td>0.954631</td>\n",
       "      <td>-1.033835</td>\n",
       "      <td>-1.004271</td>\n",
       "      <td>...</td>\n",
       "      <td>-1.504491</td>\n",
       "      <td>-0.402489</td>\n",
       "      <td>-0.173690</td>\n",
       "      <td>0.722842</td>\n",
       "      <td>0.669416</td>\n",
       "      <td>1.303519</td>\n",
       "      <td>-0.169334</td>\n",
       "      <td>-0.298430</td>\n",
       "      <td>-0.137049</td>\n",
       "      <td>-0.252680</td>\n",
       "    </tr>\n",
       "    <tr>\n",
       "      <th>4_E6.5_8.5_Chan</th>\n",
       "      <td>-2.697630</td>\n",
       "      <td>-1.280466</td>\n",
       "      <td>-1.293920</td>\n",
       "      <td>-1.212432</td>\n",
       "      <td>-1.637142</td>\n",
       "      <td>-0.473148</td>\n",
       "      <td>0.560056</td>\n",
       "      <td>1.071413</td>\n",
       "      <td>-0.916808</td>\n",
       "      <td>-0.850493</td>\n",
       "      <td>...</td>\n",
       "      <td>-1.284332</td>\n",
       "      <td>-0.607033</td>\n",
       "      <td>0.473644</td>\n",
       "      <td>0.573650</td>\n",
       "      <td>0.004312</td>\n",
       "      <td>1.211751</td>\n",
       "      <td>-0.519496</td>\n",
       "      <td>0.130173</td>\n",
       "      <td>0.017167</td>\n",
       "      <td>-0.303247</td>\n",
       "    </tr>\n",
       "    <tr>\n",
       "      <th>5_E6.5_8.5_Chan</th>\n",
       "      <td>-1.518293</td>\n",
       "      <td>-3.222630</td>\n",
       "      <td>-1.180529</td>\n",
       "      <td>-2.960967</td>\n",
       "      <td>0.870200</td>\n",
       "      <td>3.884578</td>\n",
       "      <td>-2.001716</td>\n",
       "      <td>0.392147</td>\n",
       "      <td>-0.928434</td>\n",
       "      <td>0.180480</td>\n",
       "      <td>...</td>\n",
       "      <td>-0.127968</td>\n",
       "      <td>-0.025326</td>\n",
       "      <td>0.239523</td>\n",
       "      <td>0.436803</td>\n",
       "      <td>0.111757</td>\n",
       "      <td>-0.523805</td>\n",
       "      <td>1.551714</td>\n",
       "      <td>-1.297461</td>\n",
       "      <td>1.790070</td>\n",
       "      <td>-0.135454</td>\n",
       "    </tr>\n",
       "  </tbody>\n",
       "</table>\n",
       "<p>5 rows × 100 columns</p>\n",
       "</div>"
      ],
      "text/plain": [
       "                     PC_1      PC_2      PC_3      PC_4      PC_5      PC_6  \\\n",
       "1_E6.5_8.5_Chan -2.655412 -0.300049 -1.034945 -0.944804 -1.739974 -0.860410   \n",
       "2_E6.5_8.5_Chan -4.518603 -0.330941 -1.357964  0.071110 -3.364610 -0.286651   \n",
       "3_E6.5_8.5_Chan -2.569621 -0.560730 -1.002214 -0.713379 -2.253816 -0.301924   \n",
       "4_E6.5_8.5_Chan -2.697630 -1.280466 -1.293920 -1.212432 -1.637142 -0.473148   \n",
       "5_E6.5_8.5_Chan -1.518293 -3.222630 -1.180529 -2.960967  0.870200  3.884578   \n",
       "\n",
       "                     PC_7      PC_8      PC_9     PC_10  ...     PC_91  \\\n",
       "1_E6.5_8.5_Chan  0.217444  0.898096 -1.030760 -0.836114  ... -0.372830   \n",
       "2_E6.5_8.5_Chan -1.366177  0.422332 -2.258359 -0.556681  ... -0.977533   \n",
       "3_E6.5_8.5_Chan  0.495366  0.954631 -1.033835 -1.004271  ... -1.504491   \n",
       "4_E6.5_8.5_Chan  0.560056  1.071413 -0.916808 -0.850493  ... -1.284332   \n",
       "5_E6.5_8.5_Chan -2.001716  0.392147 -0.928434  0.180480  ... -0.127968   \n",
       "\n",
       "                    PC_92     PC_93     PC_94     PC_95     PC_96     PC_97  \\\n",
       "1_E6.5_8.5_Chan  0.251180 -1.370946 -0.986580  0.189872 -0.243378 -0.132186   \n",
       "2_E6.5_8.5_Chan  0.169632  0.119051 -0.252179  0.925005 -1.555251 -0.987407   \n",
       "3_E6.5_8.5_Chan -0.402489 -0.173690  0.722842  0.669416  1.303519 -0.169334   \n",
       "4_E6.5_8.5_Chan -0.607033  0.473644  0.573650  0.004312  1.211751 -0.519496   \n",
       "5_E6.5_8.5_Chan -0.025326  0.239523  0.436803  0.111757 -0.523805  1.551714   \n",
       "\n",
       "                    PC_98     PC_99    PC_100  \n",
       "1_E6.5_8.5_Chan  0.480014 -0.759772  1.033340  \n",
       "2_E6.5_8.5_Chan  0.555360  0.151035 -0.001243  \n",
       "3_E6.5_8.5_Chan -0.298430 -0.137049 -0.252680  \n",
       "4_E6.5_8.5_Chan  0.130173  0.017167 -0.303247  \n",
       "5_E6.5_8.5_Chan -1.297461  1.790070 -0.135454  \n",
       "\n",
       "[5 rows x 100 columns]"
      ]
     },
     "execution_count": 5,
     "metadata": {},
     "output_type": "execute_result"
    }
   ],
   "source": [
    "pca.head() "
   ]
  },
  {
   "cell_type": "code",
   "execution_count": 8,
   "metadata": {},
   "outputs": [
    {
     "data": {
      "text/plain": [
       "(1206, 2)"
      ]
     },
     "execution_count": 8,
     "metadata": {},
     "output_type": "execute_result"
    }
   ],
   "source": [
    "# parameters used in the original umap \n",
    "# dims = 1:100\n",
    "# n_neighbors = 50 \n",
    "# n.components = 3\n",
    "# min.dist = 0.3 (default)\n",
    "# metric = cosine (default)\n",
    "\n",
    "import umap\n",
    "\n",
    "np.random.seed(42 )\n",
    "reducer = umap.UMAP() \n",
    "embedding = reducer.fit_transform(pca)\n",
    "embedding.shape\n"
   ]
  },
  {
   "cell_type": "code",
   "execution_count": 9,
   "metadata": {},
   "outputs": [],
   "source": [
    "meta = pd.read_csv('meta_data.csv', index_col = 0)"
   ]
  },
  {
   "cell_type": "code",
   "execution_count": 10,
   "metadata": {},
   "outputs": [
    {
     "data": {
      "text/html": [
       "<div>\n",
       "<style scoped>\n",
       "    .dataframe tbody tr th:only-of-type {\n",
       "        vertical-align: middle;\n",
       "    }\n",
       "\n",
       "    .dataframe tbody tr th {\n",
       "        vertical-align: top;\n",
       "    }\n",
       "\n",
       "    .dataframe thead th {\n",
       "        text-align: right;\n",
       "    }\n",
       "</style>\n",
       "<table border=\"1\" class=\"dataframe\">\n",
       "  <thead>\n",
       "    <tr style=\"text-align: right;\">\n",
       "      <th></th>\n",
       "      <th>Tissue</th>\n",
       "      <th>cell_ontology_class</th>\n",
       "      <th>age</th>\n",
       "      <th>dataset</th>\n",
       "      <th>cell_id</th>\n",
       "      <th>seurat_clusters</th>\n",
       "    </tr>\n",
       "  </thead>\n",
       "  <tbody>\n",
       "    <tr>\n",
       "      <th>1_E6.5_8.5_Chan</th>\n",
       "      <td>epiblast</td>\n",
       "      <td>epiblast</td>\n",
       "      <td>E6.5</td>\n",
       "      <td>E6.5_8.5_Chan</td>\n",
       "      <td>1_E6.5_8.5_Chan</td>\n",
       "      <td>6</td>\n",
       "    </tr>\n",
       "    <tr>\n",
       "      <th>2_E6.5_8.5_Chan</th>\n",
       "      <td>xecto</td>\n",
       "      <td>ectoderm early 2</td>\n",
       "      <td>E6.5</td>\n",
       "      <td>E6.5_8.5_Chan</td>\n",
       "      <td>2_E6.5_8.5_Chan</td>\n",
       "      <td>6</td>\n",
       "    </tr>\n",
       "    <tr>\n",
       "      <th>3_E6.5_8.5_Chan</th>\n",
       "      <td>epiblast</td>\n",
       "      <td>epiblast</td>\n",
       "      <td>E6.5</td>\n",
       "      <td>E6.5_8.5_Chan</td>\n",
       "      <td>3_E6.5_8.5_Chan</td>\n",
       "      <td>6</td>\n",
       "    </tr>\n",
       "    <tr>\n",
       "      <th>4_E6.5_8.5_Chan</th>\n",
       "      <td>epiblast</td>\n",
       "      <td>epiblast</td>\n",
       "      <td>E6.5</td>\n",
       "      <td>E6.5_8.5_Chan</td>\n",
       "      <td>4_E6.5_8.5_Chan</td>\n",
       "      <td>6</td>\n",
       "    </tr>\n",
       "    <tr>\n",
       "      <th>5_E6.5_8.5_Chan</th>\n",
       "      <td>xecto</td>\n",
       "      <td>extraembryonic ectoderm 1</td>\n",
       "      <td>E6.5</td>\n",
       "      <td>E6.5_8.5_Chan</td>\n",
       "      <td>5_E6.5_8.5_Chan</td>\n",
       "      <td>17</td>\n",
       "    </tr>\n",
       "  </tbody>\n",
       "</table>\n",
       "</div>"
      ],
      "text/plain": [
       "                   Tissue        cell_ontology_class   age        dataset  \\\n",
       "1_E6.5_8.5_Chan  epiblast                  epiblast   E6.5  E6.5_8.5_Chan   \n",
       "2_E6.5_8.5_Chan     xecto           ectoderm early 2  E6.5  E6.5_8.5_Chan   \n",
       "3_E6.5_8.5_Chan  epiblast                  epiblast   E6.5  E6.5_8.5_Chan   \n",
       "4_E6.5_8.5_Chan  epiblast                  epiblast   E6.5  E6.5_8.5_Chan   \n",
       "5_E6.5_8.5_Chan     xecto  extraembryonic ectoderm 1  E6.5  E6.5_8.5_Chan   \n",
       "\n",
       "                         cell_id  seurat_clusters  \n",
       "1_E6.5_8.5_Chan  1_E6.5_8.5_Chan                6  \n",
       "2_E6.5_8.5_Chan  2_E6.5_8.5_Chan                6  \n",
       "3_E6.5_8.5_Chan  3_E6.5_8.5_Chan                6  \n",
       "4_E6.5_8.5_Chan  4_E6.5_8.5_Chan                6  \n",
       "5_E6.5_8.5_Chan  5_E6.5_8.5_Chan               17  "
      ]
     },
     "execution_count": 10,
     "metadata": {},
     "output_type": "execute_result"
    }
   ],
   "source": [
    "meta.head() "
   ]
  },
  {
   "cell_type": "code",
   "execution_count": 13,
   "metadata": {},
   "outputs": [
    {
     "data": {
      "text/plain": [
       "Text(0.5, 1.0, 'UMAP projection default parameters')"
      ]
     },
     "execution_count": 13,
     "metadata": {},
     "output_type": "execute_result"
    },
    {
     "data": {
      "image/png": "[encoded data removed]",
      "text/plain": [
       "<Figure size 432x288 with 1 Axes>"
      ]
     },
     "metadata": {
      "needs_background": "light"
     },
     "output_type": "display_data"
    }
   ],
   "source": [
    "plt.scatter(\n",
    "    embedding[:,0],\n",
    "    embedding[:,1],\n",
    "    )\n",
    "plt.gca().set_aspect('equal', 'datalim')\n",
    "plt.title(\"UMAP projection default parameters\", fontsize = 24)"
   ]
  },
  {
   "cell_type": "code",
   "execution_count": 18,
   "metadata": {},
   "outputs": [],
   "source": [
    "def draw_umap(data = pd.DataFrame(), n_neighbors = 15, min_dist = 0.1, n_components = 2, metric = 'euclidean', title =''):\n",
    "    fit = umap.UMAP(\n",
    "        n_neighbors = n_neighbors, \n",
    "        min_dist = min_dist, \n",
    "        n_components = n_components, \n",
    "        metric =metric\n",
    "    ) # end umap \n",
    "    u = fit.fit_transform(data)\n",
    "    fig = plt.figure() \n",
    "    \n",
    "    if n_components == 1:\n",
    "        ax.fig.add_subplot(111)\n",
    "        ax.scatter(u[:,0], range(len(u)))\n",
    "        \n",
    "    if n_components == 2:\n",
    "        ax = fig.add_subplot(111)\n",
    "        ax.scatter(u[:,0], u[:,1])\n",
    "    if n_components == 3:\n",
    "        ax = fig.add_subplot(111, projection = '3d')\n",
    "        ax.scatter( u[:,0],u[:,1],u[:,2], s =100 )\n",
    "    \n",
    "    plt.title(title, fontsize =18)"
   ]
  },
  {
   "cell_type": "code",
   "execution_count": 20,
   "metadata": {},
   "outputs": [
    {
     "ename": "UnboundLocalError",
     "evalue": "local variable 'ax' referenced before assignment",
     "output_type": "error",
     "traceback": [
      "\u001b[0;31m---------------------------------------------------------------------------\u001b[0m",
      "\u001b[0;31mUnboundLocalError\u001b[0m                         Traceback (most recent call last)",
      "\u001b[0;32m<ipython-input-20-c661f4e78c77>\u001b[0m in \u001b[0;36m<module>\u001b[0;34m\u001b[0m\n\u001b[0;32m----> 1\u001b[0;31m \u001b[0mdraw_umap\u001b[0m\u001b[0;34m(\u001b[0m\u001b[0mdata\u001b[0m \u001b[0;34m=\u001b[0m \u001b[0mpca\u001b[0m\u001b[0;34m,\u001b[0m \u001b[0mn_neighbors\u001b[0m \u001b[0;34m=\u001b[0m \u001b[0;36m50\u001b[0m \u001b[0;34m,\u001b[0m \u001b[0mn_components\u001b[0m\u001b[0;34m=\u001b[0m\u001b[0;36m3\u001b[0m \u001b[0;34m,\u001b[0m \u001b[0mmetric\u001b[0m \u001b[0;34m=\u001b[0m\u001b[0;34m'cosine'\u001b[0m\u001b[0;34m,\u001b[0m \u001b[0mmin_dist\u001b[0m \u001b[0;34m=\u001b[0m\u001b[0;36m0.3\u001b[0m\u001b[0;34m)\u001b[0m\u001b[0;34m\u001b[0m\u001b[0;34m\u001b[0m\u001b[0m\n\u001b[0m",
      "\u001b[0;32m<ipython-input-18-f5bff863d4eb>\u001b[0m in \u001b[0;36mdraw_umap\u001b[0;34m(data, n_neighbors, min_dist, n_components, metric, title)\u001b[0m\n\u001b[1;32m     17\u001b[0m         \u001b[0max\u001b[0m\u001b[0;34m.\u001b[0m\u001b[0mscatter\u001b[0m\u001b[0;34m(\u001b[0m\u001b[0mu\u001b[0m\u001b[0;34m[\u001b[0m\u001b[0;34m:\u001b[0m\u001b[0;34m,\u001b[0m\u001b[0;36m0\u001b[0m\u001b[0;34m]\u001b[0m\u001b[0;34m,\u001b[0m \u001b[0mu\u001b[0m\u001b[0;34m[\u001b[0m\u001b[0;34m:\u001b[0m\u001b[0;34m,\u001b[0m\u001b[0;36m1\u001b[0m\u001b[0;34m]\u001b[0m\u001b[0;34m)\u001b[0m\u001b[0;34m\u001b[0m\u001b[0;34m\u001b[0m\u001b[0m\n\u001b[1;32m     18\u001b[0m     \u001b[0;32mif\u001b[0m \u001b[0mn_components\u001b[0m \u001b[0;34m==\u001b[0m \u001b[0;36m3\u001b[0m\u001b[0;34m:\u001b[0m\u001b[0;34m\u001b[0m\u001b[0;34m\u001b[0m\u001b[0m\n\u001b[0;32m---> 19\u001b[0;31m         \u001b[0max\u001b[0m\u001b[0;34m.\u001b[0m\u001b[0mfig\u001b[0m\u001b[0;34m.\u001b[0m\u001b[0madd_subplot\u001b[0m\u001b[0;34m(\u001b[0m\u001b[0;36m111\u001b[0m\u001b[0;34m,\u001b[0m \u001b[0mprojection\u001b[0m \u001b[0;34m=\u001b[0m \u001b[0;34m'3d'\u001b[0m\u001b[0;34m)\u001b[0m\u001b[0;34m\u001b[0m\u001b[0;34m\u001b[0m\u001b[0m\n\u001b[0m\u001b[1;32m     20\u001b[0m         \u001b[0max\u001b[0m\u001b[0;34m.\u001b[0m\u001b[0mscatter\u001b[0m\u001b[0;34m(\u001b[0m \u001b[0mu\u001b[0m\u001b[0;34m[\u001b[0m\u001b[0;34m:\u001b[0m\u001b[0;34m,\u001b[0m\u001b[0;36m0\u001b[0m\u001b[0;34m]\u001b[0m\u001b[0;34m,\u001b[0m\u001b[0mu\u001b[0m\u001b[0;34m[\u001b[0m\u001b[0;34m:\u001b[0m\u001b[0;34m,\u001b[0m\u001b[0;36m1\u001b[0m\u001b[0;34m]\u001b[0m\u001b[0;34m,\u001b[0m\u001b[0mu\u001b[0m\u001b[0;34m[\u001b[0m\u001b[0;34m:\u001b[0m\u001b[0;34m,\u001b[0m\u001b[0;36m2\u001b[0m\u001b[0;34m]\u001b[0m\u001b[0;34m,\u001b[0m \u001b[0ms\u001b[0m \u001b[0;34m=\u001b[0m\u001b[0;36m100\u001b[0m \u001b[0;34m)\u001b[0m\u001b[0;34m\u001b[0m\u001b[0;34m\u001b[0m\u001b[0m\n\u001b[1;32m     21\u001b[0m \u001b[0;34m\u001b[0m\u001b[0m\n",
      "\u001b[0;31mUnboundLocalError\u001b[0m: local variable 'ax' referenced before assignment"
     ]
    },
    {
     "data": {
      "text/plain": [
       "<Figure size 432x288 with 0 Axes>"
      ]
     },
     "metadata": {},
     "output_type": "display_data"
    }
   ],
   "source": [
    "draw_umap(data = pca, n_neighbors = 50 , n_components=3 , metric ='cosine', min_dist =0.3)"
   ]
  },
  {
   "cell_type": "code",
   "execution_count": null,
   "metadata": {},
   "outputs": [],
   "source": []
  }
 ],
 "metadata": {
  "kernelspec": {
   "display_name": "Python 3",
   "language": "python",
   "name": "python3"
  },
  "language_info": {
   "codemirror_mode": {
    "name": "ipython",
    "version": 3
   },
   "file_extension": ".py",
   "mimetype": "text/x-python",
   "name": "python",
   "nbconvert_exporter": "python",
   "pygments_lexer": "ipython3",
   "version": "3.7.3"
  }
 },
 "nbformat": 4,
 "nbformat_minor": 2
}
